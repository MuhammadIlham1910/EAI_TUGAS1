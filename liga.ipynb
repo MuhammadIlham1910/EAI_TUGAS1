{
 "cells": [
  {
   "cell_type": "code",
   "execution_count": 1,
   "metadata": {},
   "outputs": [
    {
     "name": "stdout",
     "output_type": "stream",
     "text": [
      "[{'team': {'name': 'Real Madrid', 'logo': 'https://a.espncdn.com/i/teamlogos/soccer/500/86.png', 'abbreviation': 'RMA'}, 'stats': {'wins': 20, 'losses': 1, 'ties': 6, 'gamesPlayed': 27, 'goalsFor': 56, 'goalsAgainst': 18, 'points': 66, 'rank': 1, 'goalDifference': 38}}, {'team': {'name': 'Girona', 'logo': 'https://a.espncdn.com/i/teamlogos/soccer/500/9812.png', 'abbreviation': 'GIR'}, 'stats': {'wins': 18, 'losses': 4, 'ties': 5, 'gamesPlayed': 27, 'goalsFor': 57, 'goalsAgainst': 33, 'points': 59, 'rank': 2, 'goalDifference': 24}}, {'team': {'name': 'Barcelona', 'logo': 'https://a.espncdn.com/i/teamlogos/soccer/500/83.png', 'abbreviation': 'BAR'}, 'stats': {'wins': 17, 'losses': 3, 'ties': 7, 'gamesPlayed': 27, 'goalsFor': 56, 'goalsAgainst': 34, 'points': 58, 'rank': 3, 'goalDifference': 22}}, {'team': {'name': 'Atlético Madrid', 'logo': 'https://a.espncdn.com/i/teamlogos/soccer/500/1068.png', 'abbreviation': 'ATM'}, 'stats': {'wins': 17, 'losses': 6, 'ties': 4, 'gamesPlayed': 27, 'goalsFor': 54, 'goalsAgainst': 29, 'points': 55, 'rank': 4, 'goalDifference': 25}}, {'team': {'name': 'Athletic Club', 'logo': 'https://a.espncdn.com/i/teamlogos/soccer/500/93.png', 'abbreviation': 'ATH'}, 'stats': {'wins': 14, 'losses': 5, 'ties': 8, 'gamesPlayed': 27, 'goalsFor': 46, 'goalsAgainst': 26, 'points': 50, 'rank': 5, 'goalDifference': 20}}, {'team': {'name': 'Real Betis', 'logo': 'https://a.espncdn.com/i/teamlogos/soccer/500/244.png', 'abbreviation': 'BET'}, 'stats': {'wins': 10, 'losses': 5, 'ties': 12, 'gamesPlayed': 27, 'goalsFor': 32, 'goalsAgainst': 28, 'points': 42, 'rank': 6, 'goalDifference': 4}}, {'team': {'name': 'Real Sociedad', 'logo': 'https://a.espncdn.com/i/teamlogos/soccer/500/89.png', 'abbreviation': 'RSO'}, 'stats': {'wins': 10, 'losses': 7, 'ties': 10, 'gamesPlayed': 27, 'goalsFor': 37, 'goalsAgainst': 29, 'points': 40, 'rank': 7, 'goalDifference': 8}}, {'team': {'name': 'Las Palmas', 'logo': 'https://a.espncdn.com/i/teamlogos/soccer/500/98.png', 'abbreviation': 'LPA'}, 'stats': {'wins': 10, 'losses': 10, 'ties': 7, 'gamesPlayed': 27, 'goalsFor': 29, 'goalsAgainst': 29, 'points': 37, 'rank': 8, 'goalDifference': 0}}, {'team': {'name': 'Valencia', 'logo': 'https://a.espncdn.com/i/teamlogos/soccer/500/94.png', 'abbreviation': 'VAL'}, 'stats': {'wins': 10, 'losses': 9, 'ties': 7, 'gamesPlayed': 26, 'goalsFor': 31, 'goalsAgainst': 31, 'points': 37, 'rank': 9, 'goalDifference': 0}}, {'team': {'name': 'Getafe', 'logo': 'https://a.espncdn.com/i/teamlogos/soccer/500/2922.png', 'abbreviation': 'GET'}, 'stats': {'wins': 8, 'losses': 8, 'ties': 11, 'gamesPlayed': 27, 'goalsFor': 36, 'goalsAgainst': 41, 'points': 35, 'rank': 10, 'goalDifference': -5}}, {'team': {'name': 'Osasuna', 'logo': 'https://a.espncdn.com/i/teamlogos/soccer/500/97.png', 'abbreviation': 'OSA'}, 'stats': {'wins': 9, 'losses': 11, 'ties': 6, 'gamesPlayed': 26, 'goalsFor': 30, 'goalsAgainst': 37, 'points': 33, 'rank': 11, 'goalDifference': -7}}, {'team': {'name': 'Villarreal', 'logo': 'https://a.espncdn.com/i/teamlogos/soccer/500/102.png', 'abbreviation': 'VIL'}, 'stats': {'wins': 8, 'losses': 11, 'ties': 8, 'gamesPlayed': 27, 'goalsFor': 43, 'goalsAgainst': 49, 'points': 32, 'rank': 12, 'goalDifference': -6}}, {'team': {'name': 'Alavés', 'logo': 'https://a.espncdn.com/i/teamlogos/soccer/500/96.png', 'abbreviation': 'ALA'}, 'stats': {'wins': 7, 'losses': 11, 'ties': 8, 'gamesPlayed': 26, 'goalsFor': 25, 'goalsAgainst': 32, 'points': 29, 'rank': 13, 'goalDifference': -7}}, {'team': {'name': 'Sevilla', 'logo': 'https://a.espncdn.com/i/teamlogos/soccer/500/243.png', 'abbreviation': 'SEV'}, 'stats': {'wins': 6, 'losses': 12, 'ties': 9, 'gamesPlayed': 27, 'goalsFor': 33, 'goalsAgainst': 40, 'points': 27, 'rank': 14, 'goalDifference': -7}}, {'team': {'name': 'Mallorca', 'logo': 'https://a.espncdn.com/i/teamlogos/soccer/500/84.png', 'abbreviation': 'MLL'}, 'stats': {'wins': 5, 'losses': 10, 'ties': 12, 'gamesPlayed': 27, 'goalsFor': 24, 'goalsAgainst': 34, 'points': 27, 'rank': 15, 'goalDifference': -10}}, {'team': {'name': 'Rayo Vallecano', 'logo': 'https://a.espncdn.com/i/teamlogos/soccer/500/101.png', 'abbreviation': 'RAY'}, 'stats': {'wins': 5, 'losses': 11, 'ties': 11, 'gamesPlayed': 27, 'goalsFor': 23, 'goalsAgainst': 37, 'points': 26, 'rank': 16, 'goalDifference': -14}}, {'team': {'name': 'Celta Vigo', 'logo': 'https://a.espncdn.com/i/teamlogos/soccer/500/85.png', 'abbreviation': 'CEL'}, 'stats': {'wins': 5, 'losses': 13, 'ties': 9, 'gamesPlayed': 27, 'goalsFor': 30, 'goalsAgainst': 39, 'points': 24, 'rank': 17, 'goalDifference': -9}}, {'team': {'name': 'Cádiz', 'logo': 'https://a.espncdn.com/i/teamlogos/soccer/500/3842.png', 'abbreviation': 'CAD'}, 'stats': {'wins': 2, 'losses': 12, 'ties': 13, 'gamesPlayed': 27, 'goalsFor': 18, 'goalsAgainst': 38, 'points': 19, 'rank': 18, 'goalDifference': -20}}, {'team': {'name': 'Granada', 'logo': 'https://a.espncdn.com/i/teamlogos/soccer/500/3747.png', 'abbreviation': 'GRA'}, 'stats': {'wins': 2, 'losses': 16, 'ties': 8, 'gamesPlayed': 26, 'goalsFor': 28, 'goalsAgainst': 54, 'points': 14, 'rank': 19, 'goalDifference': -26}}, {'team': {'name': 'Almería', 'logo': 'https://a.espncdn.com/i/teamlogos/soccer/500/6832.png', 'abbreviation': 'ALM'}, 'stats': {'wins': 0, 'losses': 18, 'ties': 9, 'gamesPlayed': 27, 'goalsFor': 25, 'goalsAgainst': 55, 'points': 9, 'rank': 20, 'goalDifference': -30}}]\n"
     ]
    }
   ],
   "source": [
    "import requests\n",
    "\n",
    "url = \"https://laliga-standings.p.rapidapi.com/\"\n",
    "\n",
    "headers = {\n",
    "\t\"X-RapidAPI-Key\": \"755ea1304fmsh6f50cb91b003db9p123f93jsn64eaa8799086\",\n",
    "\t\"X-RapidAPI-Host\": \"laliga-standings.p.rapidapi.com\"\n",
    "}\n",
    "\n",
    "response = requests.get(url, headers=headers)\n",
    "\n",
    "print(response.json())"
   ]
  },
  {
   "cell_type": "code",
   "execution_count": 2,
   "metadata": {},
   "outputs": [
    {
     "data": {
      "text/plain": [
       "list"
      ]
     },
     "execution_count": 2,
     "metadata": {},
     "output_type": "execute_result"
    }
   ],
   "source": [
    "type(response.json())"
   ]
  },
  {
   "cell_type": "code",
   "execution_count": 3,
   "metadata": {},
   "outputs": [],
   "source": [
    "laliga = response.json()"
   ]
  },
  {
   "cell_type": "code",
   "execution_count": 4,
   "metadata": {},
   "outputs": [
    {
     "name": "stdout",
     "output_type": "stream",
     "text": [
      "{'team': {'name': 'Real Madrid', 'logo': 'https://a.espncdn.com/i/teamlogos/soccer/500/86.png', 'abbreviation': 'RMA'}, 'stats': {'wins': 20, 'losses': 1, 'ties': 6, 'gamesPlayed': 27, 'goalsFor': 56, 'goalsAgainst': 18, 'points': 66, 'rank': 1, 'goalDifference': 38}}\n",
      "{'team': {'name': 'Girona', 'logo': 'https://a.espncdn.com/i/teamlogos/soccer/500/9812.png', 'abbreviation': 'GIR'}, 'stats': {'wins': 18, 'losses': 4, 'ties': 5, 'gamesPlayed': 27, 'goalsFor': 57, 'goalsAgainst': 33, 'points': 59, 'rank': 2, 'goalDifference': 24}}\n",
      "{'team': {'name': 'Barcelona', 'logo': 'https://a.espncdn.com/i/teamlogos/soccer/500/83.png', 'abbreviation': 'BAR'}, 'stats': {'wins': 17, 'losses': 3, 'ties': 7, 'gamesPlayed': 27, 'goalsFor': 56, 'goalsAgainst': 34, 'points': 58, 'rank': 3, 'goalDifference': 22}}\n",
      "{'team': {'name': 'Atlético Madrid', 'logo': 'https://a.espncdn.com/i/teamlogos/soccer/500/1068.png', 'abbreviation': 'ATM'}, 'stats': {'wins': 17, 'losses': 6, 'ties': 4, 'gamesPlayed': 27, 'goalsFor': 54, 'goalsAgainst': 29, 'points': 55, 'rank': 4, 'goalDifference': 25}}\n",
      "{'team': {'name': 'Athletic Club', 'logo': 'https://a.espncdn.com/i/teamlogos/soccer/500/93.png', 'abbreviation': 'ATH'}, 'stats': {'wins': 14, 'losses': 5, 'ties': 8, 'gamesPlayed': 27, 'goalsFor': 46, 'goalsAgainst': 26, 'points': 50, 'rank': 5, 'goalDifference': 20}}\n",
      "{'team': {'name': 'Real Betis', 'logo': 'https://a.espncdn.com/i/teamlogos/soccer/500/244.png', 'abbreviation': 'BET'}, 'stats': {'wins': 10, 'losses': 5, 'ties': 12, 'gamesPlayed': 27, 'goalsFor': 32, 'goalsAgainst': 28, 'points': 42, 'rank': 6, 'goalDifference': 4}}\n",
      "{'team': {'name': 'Real Sociedad', 'logo': 'https://a.espncdn.com/i/teamlogos/soccer/500/89.png', 'abbreviation': 'RSO'}, 'stats': {'wins': 10, 'losses': 7, 'ties': 10, 'gamesPlayed': 27, 'goalsFor': 37, 'goalsAgainst': 29, 'points': 40, 'rank': 7, 'goalDifference': 8}}\n",
      "{'team': {'name': 'Las Palmas', 'logo': 'https://a.espncdn.com/i/teamlogos/soccer/500/98.png', 'abbreviation': 'LPA'}, 'stats': {'wins': 10, 'losses': 10, 'ties': 7, 'gamesPlayed': 27, 'goalsFor': 29, 'goalsAgainst': 29, 'points': 37, 'rank': 8, 'goalDifference': 0}}\n",
      "{'team': {'name': 'Valencia', 'logo': 'https://a.espncdn.com/i/teamlogos/soccer/500/94.png', 'abbreviation': 'VAL'}, 'stats': {'wins': 10, 'losses': 9, 'ties': 7, 'gamesPlayed': 26, 'goalsFor': 31, 'goalsAgainst': 31, 'points': 37, 'rank': 9, 'goalDifference': 0}}\n",
      "{'team': {'name': 'Getafe', 'logo': 'https://a.espncdn.com/i/teamlogos/soccer/500/2922.png', 'abbreviation': 'GET'}, 'stats': {'wins': 8, 'losses': 8, 'ties': 11, 'gamesPlayed': 27, 'goalsFor': 36, 'goalsAgainst': 41, 'points': 35, 'rank': 10, 'goalDifference': -5}}\n",
      "{'team': {'name': 'Osasuna', 'logo': 'https://a.espncdn.com/i/teamlogos/soccer/500/97.png', 'abbreviation': 'OSA'}, 'stats': {'wins': 9, 'losses': 11, 'ties': 6, 'gamesPlayed': 26, 'goalsFor': 30, 'goalsAgainst': 37, 'points': 33, 'rank': 11, 'goalDifference': -7}}\n",
      "{'team': {'name': 'Villarreal', 'logo': 'https://a.espncdn.com/i/teamlogos/soccer/500/102.png', 'abbreviation': 'VIL'}, 'stats': {'wins': 8, 'losses': 11, 'ties': 8, 'gamesPlayed': 27, 'goalsFor': 43, 'goalsAgainst': 49, 'points': 32, 'rank': 12, 'goalDifference': -6}}\n",
      "{'team': {'name': 'Alavés', 'logo': 'https://a.espncdn.com/i/teamlogos/soccer/500/96.png', 'abbreviation': 'ALA'}, 'stats': {'wins': 7, 'losses': 11, 'ties': 8, 'gamesPlayed': 26, 'goalsFor': 25, 'goalsAgainst': 32, 'points': 29, 'rank': 13, 'goalDifference': -7}}\n",
      "{'team': {'name': 'Sevilla', 'logo': 'https://a.espncdn.com/i/teamlogos/soccer/500/243.png', 'abbreviation': 'SEV'}, 'stats': {'wins': 6, 'losses': 12, 'ties': 9, 'gamesPlayed': 27, 'goalsFor': 33, 'goalsAgainst': 40, 'points': 27, 'rank': 14, 'goalDifference': -7}}\n",
      "{'team': {'name': 'Mallorca', 'logo': 'https://a.espncdn.com/i/teamlogos/soccer/500/84.png', 'abbreviation': 'MLL'}, 'stats': {'wins': 5, 'losses': 10, 'ties': 12, 'gamesPlayed': 27, 'goalsFor': 24, 'goalsAgainst': 34, 'points': 27, 'rank': 15, 'goalDifference': -10}}\n",
      "{'team': {'name': 'Rayo Vallecano', 'logo': 'https://a.espncdn.com/i/teamlogos/soccer/500/101.png', 'abbreviation': 'RAY'}, 'stats': {'wins': 5, 'losses': 11, 'ties': 11, 'gamesPlayed': 27, 'goalsFor': 23, 'goalsAgainst': 37, 'points': 26, 'rank': 16, 'goalDifference': -14}}\n",
      "{'team': {'name': 'Celta Vigo', 'logo': 'https://a.espncdn.com/i/teamlogos/soccer/500/85.png', 'abbreviation': 'CEL'}, 'stats': {'wins': 5, 'losses': 13, 'ties': 9, 'gamesPlayed': 27, 'goalsFor': 30, 'goalsAgainst': 39, 'points': 24, 'rank': 17, 'goalDifference': -9}}\n",
      "{'team': {'name': 'Cádiz', 'logo': 'https://a.espncdn.com/i/teamlogos/soccer/500/3842.png', 'abbreviation': 'CAD'}, 'stats': {'wins': 2, 'losses': 12, 'ties': 13, 'gamesPlayed': 27, 'goalsFor': 18, 'goalsAgainst': 38, 'points': 19, 'rank': 18, 'goalDifference': -20}}\n",
      "{'team': {'name': 'Granada', 'logo': 'https://a.espncdn.com/i/teamlogos/soccer/500/3747.png', 'abbreviation': 'GRA'}, 'stats': {'wins': 2, 'losses': 16, 'ties': 8, 'gamesPlayed': 26, 'goalsFor': 28, 'goalsAgainst': 54, 'points': 14, 'rank': 19, 'goalDifference': -26}}\n",
      "{'team': {'name': 'Almería', 'logo': 'https://a.espncdn.com/i/teamlogos/soccer/500/6832.png', 'abbreviation': 'ALM'}, 'stats': {'wins': 0, 'losses': 18, 'ties': 9, 'gamesPlayed': 27, 'goalsFor': 25, 'goalsAgainst': 55, 'points': 9, 'rank': 20, 'goalDifference': -30}}\n"
     ]
    }
   ],
   "source": [
    "for i in laliga:\n",
    "    print(i)"
   ]
  },
  {
   "cell_type": "code",
   "execution_count": 7,
   "metadata": {},
   "outputs": [
    {
     "name": "stdout",
     "output_type": "stream",
     "text": [
      "Real Madrid 20 1\n",
      "Girona 18 4\n",
      "Barcelona 17 3\n",
      "Atlético Madrid 17 6\n",
      "Athletic Club 14 5\n",
      "Real Betis 10 5\n",
      "Real Sociedad 10 7\n",
      "Las Palmas 10 10\n",
      "Valencia 10 9\n",
      "Getafe 8 8\n",
      "Osasuna 9 11\n",
      "Villarreal 8 11\n",
      "Alavés 7 11\n",
      "Sevilla 6 12\n",
      "Mallorca 5 10\n",
      "Rayo Vallecano 5 11\n",
      "Celta Vigo 5 13\n",
      "Cádiz 2 12\n",
      "Granada 2 16\n",
      "Almería 0 18\n"
     ]
    }
   ],
   "source": [
    "for i in laliga:\n",
    "    print(i['team']['name'], i['stats']['wins'], i['stats']['losses'])"
   ]
  },
  {
   "cell_type": "code",
   "execution_count": 3,
   "metadata": {},
   "outputs": [
    {
     "name": "stdout",
     "output_type": "stream",
     "text": [
      "15\n"
     ]
    }
   ],
   "source": [
    "laliga = \"Hello, La Liga!\"\n",
    "print(len(laliga))"
   ]
  }
 ],
 "metadata": {
  "kernelspec": {
   "display_name": "Python 3",
   "language": "python",
   "name": "python3"
  },
  "language_info": {
   "codemirror_mode": {
    "name": "ipython",
    "version": 3
   },
   "file_extension": ".py",
   "mimetype": "text/x-python",
   "name": "python",
   "nbconvert_exporter": "python",
   "pygments_lexer": "ipython3",
   "version": "3.9.12"
  }
 },
 "nbformat": 4,
 "nbformat_minor": 2
}
